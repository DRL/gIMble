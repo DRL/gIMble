{
 "cells": [
  {
   "cell_type": "code",
   "execution_count": 1,
   "metadata": {},
   "outputs": [],
   "source": [
    "def flatten(l):\n",
    "    flat_list = [item for sublist in l for item in sublist]\n",
    "    return flat_list\n",
    "\n",
    "def make_derivatives(f,vl,kmax):\n",
    "    # f is the expression (of variables in vl) for which we are taking derivatives\n",
    "    # vl is the list of variables we use for partial derivatives\n",
    "    # kl is the max number of mutations allowed for each branch type.\n",
    "    \n",
    "    \n",
    "    dic = {}\n",
    "    # dictionary to store values and probably to return\n",
    "    \n",
    "    maxOrder=len(vl)*kmax\n",
    "    \n",
    "    def add_one_each(l):\n",
    "        dim = len(l)\n",
    "        addUnit = [[1 if x==y else 0 for x in range(dim)] for y in range(dim)]\n",
    "        newVals = [map(lambda x:sum(x), zip(l,x)) for x in addUnit]\n",
    "        newVals = [ (l,x)  for x in newVals if max(x)<=kmax]\n",
    "        return newVals\n",
    "\n",
    "    def add_symbolic(sl,el):\n",
    "        if tuple(el) in dic.keys():\n",
    "             return None\n",
    "        else:\n",
    "            dl = map(lambda (x,y): y - x,zip(sl,el))\n",
    "            \n",
    "            g = dic[tuple(sl)];\n",
    "            for (a,b) in zip(vl,dl):\n",
    "                g = diff(g,a,b)\n",
    "            dic[tuple(el)] = g\n",
    "            return el\n",
    "                \n",
    "\n",
    "    \n",
    "    level0 = [0,0,0,0]\n",
    "    order = sum(level0)    \n",
    "    while (order < maxOrder+1):\n",
    "        \n",
    "        #we have to calculate the derivatives on each level.when we level up and start the new loop, we have to \n",
    "        #play the game... taken to the next level\n",
    "        if (order == 0):\n",
    "            thisLevel = [level0]\n",
    "            dic[tuple(level0)] = f\n",
    "        else:\n",
    "            thisLevel = nextLevel\n",
    "                \n",
    "        nextLevel = [ add_one_each(stage) for stage in thisLevel]\n",
    "        nextLevel = flatten(nextLevel)\n",
    "        nextLevel = [add_symbolic(a,b) for (a,b) in nextLevel]\n",
    "        nextLevel = [ stage for stage in nextLevel if stage is not None ]\n",
    "            \n",
    "        #nextLevel= list( set( [tuple(stage) for stage in nextLevel] ) )\n",
    "        # this duplication will be taken care of by checking that the next stage higher is not already\n",
    "        # in the dictionary of values.\n",
    "        \n",
    "        \n",
    "\n",
    "        order = order + 1\n",
    "        \n",
    "    return dic   "
   ]
  },
  {
   "cell_type": "code",
   "execution_count": 2,
   "metadata": {},
   "outputs": [],
   "source": [
    "def get_sym_prob(pathDic,key,mutVarl):\n",
    "    thetaProd = reduce(lambda x, y: x * y, [(b/2)^(a) for (a,b) in zip(key,mutVarl)], 1)\n",
    "    factSum = sum(key);\n",
    "    return pathDic[key]*thetaProd/factorial(factSum)*(-1)^(factSum)\n",
    "\n",
    "def get_num_prob(pathDic,key,mutVarl,subDic):\n",
    "    symProb = get_sym_prob(pathDic,key,mutVarl);\n",
    "    numProb = symProb.substitute(subDic)\n",
    "    return numProb\n",
    "\n"
   ]
  },
  {
   "cell_type": "code",
   "execution_count": 3,
   "metadata": {},
   "outputs": [
    {
     "name": "stdout",
     "output_type": "stream",
     "text": [
      "(51, 95)\n"
     ]
    }
   ],
   "source": [
    "\n",
    "pathEquationsE = ['C_ancestor^2*C_derived*M/((C_ancestor + C_derived + E + 2*M + 2*theta_A + 2*theta_B)*(C_ancestor + E + M + 2*theta_B + theta_fix)*(C_ancestor + 2*theta_fix)*(E + M + 2*theta_fix))', 'C_ancestor^2*C_derived*E/((C_ancestor + C_derived + E + 2*M + 2*theta_A + 2*theta_B)*(C_ancestor + E + M + 2*theta_B + theta_fix)*(C_ancestor + 2*theta_fix)*(E + M + 2*theta_fix))', '2*C_ancestor^2*C_derived*M/((3*C_ancestor + 2*theta_B + theta_fix)*(C_ancestor + C_derived + E + 2*M + 2*theta_A + 2*theta_B)*(C_ancestor + E + M + 2*theta_B + theta_fix)*(C_ancestor + 2*theta_B))', 'C_ancestor^2*C_derived*M/((3*C_ancestor + 2*theta_B + theta_fix)*(C_ancestor + C_derived + E + 2*M + 2*theta_A + 2*theta_B)*(C_ancestor + E + M + 2*theta_B + theta_fix)*(C_ancestor + 2*theta_fix))', '2*C_ancestor^2*C_derived*E/((3*C_ancestor + 2*theta_B + theta_fix)*(C_ancestor + C_derived + E + 2*M + 2*theta_A + 2*theta_B)*(C_ancestor + E + M + 2*theta_B + theta_fix)*(C_ancestor + 2*theta_B))', 'C_ancestor^2*C_derived*E/((3*C_ancestor + 2*theta_B + theta_fix)*(C_ancestor + C_derived + E + 2*M + 2*theta_A + 2*theta_B)*(C_ancestor + E + M + 2*theta_B + theta_fix)*(C_ancestor + 2*theta_fix))', 'C_ancestor^2*C_derived*M/((C_ancestor + C_derived + E + 2*M + 2*theta_A + 2*theta_B)*(C_ancestor + 2*theta_fix)*(C_derived + E + 2*M + 2*theta_A + theta_fix)*(E + M + 2*theta_fix))', 'C_ancestor^2*C_derived*E/((C_ancestor + C_derived + E + 2*M + 2*theta_A + 2*theta_B)*(C_ancestor + 2*theta_fix)*(C_derived + E + 2*M + 2*theta_A + theta_fix)*(E + M + 2*theta_fix))', '2*C_ancestor^3*M^2/((C_ancestor + C_derived + E + 2*M + 2*theta_A + 2*theta_B)*(C_ancestor + E + M + 2*theta_A + theta_fix)*(C_ancestor + 2*theta_A)*(C_derived + E + 2*M + 2*theta_A + theta_fix)*(E + M + 2*theta_A))', '2*C_ancestor^3*E*M/((C_ancestor + C_derived + E + 2*M + 2*theta_A + 2*theta_B)*(C_ancestor + E + M + 2*theta_A + theta_fix)*(C_ancestor + 2*theta_A)*(C_derived + E + 2*M + 2*theta_A + theta_fix)*(E + M + 2*theta_A))', '2*C_ancestor^3*M^2/((3*C_ancestor + 2*theta_A + theta_fix)*(C_ancestor + C_derived + E + 2*M + 2*theta_A + 2*theta_B)*(C_ancestor + E + M + 2*theta_A + theta_fix)*(C_ancestor + 2*theta_fix)*(C_derived + E + 2*M + 2*theta_A + theta_fix))', '4*C_ancestor^3*M^2/((3*C_ancestor + 2*theta_A + theta_fix)*(C_ancestor + C_derived + E + 2*M + 2*theta_A + 2*theta_B)*(C_ancestor + E + M + 2*theta_A + theta_fix)*(C_ancestor + 2*theta_A)*(C_derived + E + 2*M + 2*theta_A + theta_fix))', '2*C_ancestor^3*E*M/((3*C_ancestor + 2*theta_A + theta_fix)*(C_ancestor + C_derived + E + 2*M + 2*theta_A + 2*theta_B)*(C_ancestor + E + M + 2*theta_A + theta_fix)*(C_ancestor + 2*theta_fix)*(C_derived + E + 2*M + 2*theta_A + theta_fix))', '4*C_ancestor^3*E*M/((3*C_ancestor + 2*theta_A + theta_fix)*(C_ancestor + C_derived + E + 2*M + 2*theta_A + 2*theta_B)*(C_ancestor + E + M + 2*theta_A + theta_fix)*(C_ancestor + 2*theta_A)*(C_derived + E + 2*M + 2*theta_A + theta_fix))', 'C_ancestor^3*E/((3*C_ancestor + 2*theta_A + theta_fix)*(C_ancestor + C_derived + E + 2*M + 2*theta_A + 2*theta_B)*(C_ancestor + 2*theta_fix)*(C_derived + E + 2*M + 2*theta_A + theta_fix))', '2*C_ancestor^3*E/((3*C_ancestor + 2*theta_A + theta_fix)*(C_ancestor + C_derived + E + 2*M + 2*theta_A + 2*theta_B)*(C_ancestor + 2*theta_A)*(C_derived + E + 2*M + 2*theta_A + theta_fix))', '4*C_ancestor^3*M^2/((3*C_ancestor + E + M + 2*theta_A + 2*theta_B)*(C_ancestor + C_derived + E + 2*M + 2*theta_A + 2*theta_B)*(C_ancestor + E + M + theta_A + theta_AB + theta_B)*(C_ancestor + 2*theta_A)*(E + M + 2*theta_A))', '4*C_ancestor^3*E*M/((3*C_ancestor + E + M + 2*theta_A + 2*theta_B)*(C_ancestor + C_derived + E + 2*M + 2*theta_A + 2*theta_B)*(C_ancestor + E + M + theta_A + theta_AB + theta_B)*(C_ancestor + 2*theta_A)*(E + M + 2*theta_A))', '4*C_ancestor^3*M^2/((3*C_ancestor + E + M + 2*theta_A + 2*theta_B)*(3*C_ancestor + theta_A + theta_AB + theta_B)*(C_ancestor + C_derived + E + 2*M + 2*theta_A + 2*theta_B)*(C_ancestor + E + M + theta_A + theta_AB + theta_B)*(C_ancestor + 2*theta_B))', '4*C_ancestor^3*M^2/((3*C_ancestor + E + M + 2*theta_A + 2*theta_B)*(3*C_ancestor + theta_A + theta_AB + theta_B)*(C_ancestor + C_derived + E + 2*M + 2*theta_A + 2*theta_B)*(C_ancestor + E + M + theta_A + theta_AB + theta_B)*(C_ancestor + 2*theta_AB))', '4*C_ancestor^3*M^2/((3*C_ancestor + E + M + 2*theta_A + 2*theta_B)*(3*C_ancestor + theta_A + theta_AB + theta_B)*(C_ancestor + C_derived + E + 2*M + 2*theta_A + 2*theta_B)*(C_ancestor + E + M + theta_A + theta_AB + theta_B)*(C_ancestor + 2*theta_A))', '4*C_ancestor^3*E*M/((3*C_ancestor + E + M + 2*theta_A + 2*theta_B)*(3*C_ancestor + theta_A + theta_AB + theta_B)*(C_ancestor + C_derived + E + 2*M + 2*theta_A + 2*theta_B)*(C_ancestor + E + M + theta_A + theta_AB + theta_B)*(C_ancestor + 2*theta_B))', '4*C_ancestor^3*E*M/((3*C_ancestor + E + M + 2*theta_A + 2*theta_B)*(3*C_ancestor + theta_A + theta_AB + theta_B)*(C_ancestor + C_derived + E + 2*M + 2*theta_A + 2*theta_B)*(C_ancestor + E + M + theta_A + theta_AB + theta_B)*(C_ancestor + 2*theta_AB))', '4*C_ancestor^3*E*M/((3*C_ancestor + E + M + 2*theta_A + 2*theta_B)*(3*C_ancestor + theta_A + theta_AB + theta_B)*(C_ancestor + C_derived + E + 2*M + 2*theta_A + 2*theta_B)*(C_ancestor + E + M + theta_A + theta_AB + theta_B)*(C_ancestor + 2*theta_A))', '2*C_ancestor^3*M^2/((3*C_ancestor + E + M + 2*theta_A + 2*theta_B)*(C_ancestor + C_derived + E + 2*M + 2*theta_A + 2*theta_B)*(C_ancestor + E + M + 2*theta_A + theta_fix)*(C_ancestor + 2*theta_A)*(E + M + 2*theta_A))', '2*C_ancestor^3*E*M/((3*C_ancestor + E + M + 2*theta_A + 2*theta_B)*(C_ancestor + C_derived + E + 2*M + 2*theta_A + 2*theta_B)*(C_ancestor + E + M + 2*theta_A + theta_fix)*(C_ancestor + 2*theta_A)*(E + M + 2*theta_A))', '2*C_ancestor^3*M^2/((3*C_ancestor + E + M + 2*theta_A + 2*theta_B)*(3*C_ancestor + 2*theta_A + theta_fix)*(C_ancestor + C_derived + E + 2*M + 2*theta_A + 2*theta_B)*(C_ancestor + E + M + 2*theta_A + theta_fix)*(C_ancestor + 2*theta_fix))', '4*C_ancestor^3*M^2/((3*C_ancestor + E + M + 2*theta_A + 2*theta_B)*(3*C_ancestor + 2*theta_A + theta_fix)*(C_ancestor + C_derived + E + 2*M + 2*theta_A + 2*theta_B)*(C_ancestor + E + M + 2*theta_A + theta_fix)*(C_ancestor + 2*theta_A))', '2*C_ancestor^3*E*M/((3*C_ancestor + E + M + 2*theta_A + 2*theta_B)*(3*C_ancestor + 2*theta_A + theta_fix)*(C_ancestor + C_derived + E + 2*M + 2*theta_A + 2*theta_B)*(C_ancestor + E + M + 2*theta_A + theta_fix)*(C_ancestor + 2*theta_fix))', '4*C_ancestor^3*E*M/((3*C_ancestor + E + M + 2*theta_A + 2*theta_B)*(3*C_ancestor + 2*theta_A + theta_fix)*(C_ancestor + C_derived + E + 2*M + 2*theta_A + 2*theta_B)*(C_ancestor + E + M + 2*theta_A + theta_fix)*(C_ancestor + 2*theta_A))', '2*C_ancestor^3*M^2/((3*C_ancestor + E + M + 2*theta_A + 2*theta_B)*(3*C_ancestor + theta_A + theta_B)*(3*C_ancestor + 2*theta_B + theta_fix)*(C_ancestor + C_derived + E + 2*M + 2*theta_A + 2*theta_B)*(C_ancestor + 2*theta_B))', 'C_ancestor^3*M^2/((3*C_ancestor + E + M + 2*theta_A + 2*theta_B)*(3*C_ancestor + theta_A + theta_B)*(3*C_ancestor + 2*theta_B + theta_fix)*(C_ancestor + C_derived + E + 2*M + 2*theta_A + 2*theta_B)*(C_ancestor + 2*theta_fix))', '4*C_ancestor^3*M^2/((3*C_ancestor + E + M + 2*theta_A + 2*theta_B)*(3*C_ancestor + theta_A + theta_AB + theta_B)*(3*C_ancestor + theta_A + theta_B)*(C_ancestor + C_derived + E + 2*M + 2*theta_A + 2*theta_B)*(C_ancestor + 2*theta_B))', '4*C_ancestor^3*M^2/((3*C_ancestor + E + M + 2*theta_A + 2*theta_B)*(3*C_ancestor + theta_A + theta_AB + theta_B)*(3*C_ancestor + theta_A + theta_B)*(C_ancestor + C_derived + E + 2*M + 2*theta_A + 2*theta_B)*(C_ancestor + 2*theta_AB))', '4*C_ancestor^3*M^2/((3*C_ancestor + E + M + 2*theta_A + 2*theta_B)*(3*C_ancestor + theta_A + theta_AB + theta_B)*(3*C_ancestor + theta_A + theta_B)*(C_ancestor + C_derived + E + 2*M + 2*theta_A + 2*theta_B)*(C_ancestor + 2*theta_A))', 'C_ancestor^3*M^2/((3*C_ancestor + E + M + 2*theta_A + 2*theta_B)*(3*C_ancestor + 2*theta_A + theta_fix)*(3*C_ancestor + theta_A + theta_B)*(C_ancestor + C_derived + E + 2*M + 2*theta_A + 2*theta_B)*(C_ancestor + 2*theta_fix))', '2*C_ancestor^3*M^2/((3*C_ancestor + E + M + 2*theta_A + 2*theta_B)*(3*C_ancestor + 2*theta_A + theta_fix)*(3*C_ancestor + theta_A + theta_B)*(C_ancestor + C_derived + E + 2*M + 2*theta_A + 2*theta_B)*(C_ancestor + 2*theta_A))', '2*C_ancestor^3*E*M/((3*C_ancestor + E + M + 2*theta_A + 2*theta_B)*(3*C_ancestor + theta_A + theta_B)*(3*C_ancestor + 2*theta_B + theta_fix)*(C_ancestor + C_derived + E + 2*M + 2*theta_A + 2*theta_B)*(C_ancestor + 2*theta_B))', 'C_ancestor^3*E*M/((3*C_ancestor + E + M + 2*theta_A + 2*theta_B)*(3*C_ancestor + theta_A + theta_B)*(3*C_ancestor + 2*theta_B + theta_fix)*(C_ancestor + C_derived + E + 2*M + 2*theta_A + 2*theta_B)*(C_ancestor + 2*theta_fix))', '4*C_ancestor^3*E*M/((3*C_ancestor + E + M + 2*theta_A + 2*theta_B)*(3*C_ancestor + theta_A + theta_AB + theta_B)*(3*C_ancestor + theta_A + theta_B)*(C_ancestor + C_derived + E + 2*M + 2*theta_A + 2*theta_B)*(C_ancestor + 2*theta_B))', '4*C_ancestor^3*E*M/((3*C_ancestor + E + M + 2*theta_A + 2*theta_B)*(3*C_ancestor + theta_A + theta_AB + theta_B)*(3*C_ancestor + theta_A + theta_B)*(C_ancestor + C_derived + E + 2*M + 2*theta_A + 2*theta_B)*(C_ancestor + 2*theta_AB))', '4*C_ancestor^3*E*M/((3*C_ancestor + E + M + 2*theta_A + 2*theta_B)*(3*C_ancestor + theta_A + theta_AB + theta_B)*(3*C_ancestor + theta_A + theta_B)*(C_ancestor + C_derived + E + 2*M + 2*theta_A + 2*theta_B)*(C_ancestor + 2*theta_A))', 'C_ancestor^3*E*M/((3*C_ancestor + E + M + 2*theta_A + 2*theta_B)*(3*C_ancestor + 2*theta_A + theta_fix)*(3*C_ancestor + theta_A + theta_B)*(C_ancestor + C_derived + E + 2*M + 2*theta_A + 2*theta_B)*(C_ancestor + 2*theta_fix))', '2*C_ancestor^3*E*M/((3*C_ancestor + E + M + 2*theta_A + 2*theta_B)*(3*C_ancestor + 2*theta_A + theta_fix)*(3*C_ancestor + theta_A + theta_B)*(C_ancestor + C_derived + E + 2*M + 2*theta_A + 2*theta_B)*(C_ancestor + 2*theta_A))', 'C_ancestor^3*E/((3*C_ancestor + theta_A + theta_B)*(3*C_ancestor + 2*theta_B + theta_fix)*(C_ancestor + C_derived + E + 2*M + 2*theta_A + 2*theta_B)*(C_ancestor + 2*theta_B))', '1/2*C_ancestor^3*E/((3*C_ancestor + theta_A + theta_B)*(3*C_ancestor + 2*theta_B + theta_fix)*(C_ancestor + C_derived + E + 2*M + 2*theta_A + 2*theta_B)*(C_ancestor + 2*theta_fix))', '2*C_ancestor^3*E/((3*C_ancestor + theta_A + theta_AB + theta_B)*(3*C_ancestor + theta_A + theta_B)*(C_ancestor + C_derived + E + 2*M + 2*theta_A + 2*theta_B)*(C_ancestor + 2*theta_B))', '2*C_ancestor^3*E/((3*C_ancestor + theta_A + theta_AB + theta_B)*(3*C_ancestor + theta_A + theta_B)*(C_ancestor + C_derived + E + 2*M + 2*theta_A + 2*theta_B)*(C_ancestor + 2*theta_AB))', '2*C_ancestor^3*E/((3*C_ancestor + theta_A + theta_AB + theta_B)*(3*C_ancestor + theta_A + theta_B)*(C_ancestor + C_derived + E + 2*M + 2*theta_A + 2*theta_B)*(C_ancestor + 2*theta_A))', '1/2*C_ancestor^3*E/((3*C_ancestor + 2*theta_A + theta_fix)*(3*C_ancestor + theta_A + theta_B)*(C_ancestor + C_derived + E + 2*M + 2*theta_A + 2*theta_B)*(C_ancestor + 2*theta_fix))', 'C_ancestor^3*E/((3*C_ancestor + 2*theta_A + theta_fix)*(3*C_ancestor + theta_A + theta_B)*(C_ancestor + C_derived + E + 2*M + 2*theta_A + 2*theta_B)*(C_ancestor + 2*theta_A))']\n",
    "pathEquationsE= [str(x) for x in pathEquationsE]\n",
    "\n",
    "pathEquationsR = ['C_ancestor*C_derived^2*M/((C_ancestor + C_derived + E + 2*M + 2*theta_A + 2*theta_B)*(C_derived + E + M + 2*theta_B + theta_fix)*(C_derived + E + 2*theta_fix)*(E + M + 2*theta_fix))', 'C_ancestor^2*C_derived*E*M/((C_ancestor + C_derived + E + 2*M + 2*theta_A + 2*theta_B)*(C_ancestor + 2*theta_fix)*(C_derived + E + M + 2*theta_B + theta_fix)*(C_derived + E + 2*theta_fix)*(E + M + 2*theta_fix))', 'C_ancestor^2*C_derived*E/((C_ancestor + C_derived + E + 2*M + 2*theta_A + 2*theta_B)*(C_ancestor + 2*theta_fix)*(C_derived + E + M + 2*theta_B + theta_fix)*(E + M + 2*theta_fix))', '2*C_ancestor*C_derived^2*M/((C_ancestor + C_derived + E + 2*M + 2*theta_A + 2*theta_B)*(3*C_derived + E + 2*theta_B + theta_fix)*(C_derived + E + M + 2*theta_B + theta_fix)*(C_derived + E + 2*theta_B))', '2*C_ancestor^2*C_derived*E*M/((C_ancestor + C_derived + E + 2*M + 2*theta_A + 2*theta_B)*(C_ancestor + 2*theta_B)*(3*C_derived + E + 2*theta_B + theta_fix)*(C_derived + E + M + 2*theta_B + theta_fix)*(C_derived + E + 2*theta_B))', 'C_ancestor*C_derived^2*M/((C_ancestor + C_derived + E + 2*M + 2*theta_A + 2*theta_B)*(3*C_derived + E + 2*theta_B + theta_fix)*(C_derived + E + M + 2*theta_B + theta_fix)*(C_derived + E + 2*theta_fix))', 'C_ancestor^2*C_derived*E*M/((C_ancestor + C_derived + E + 2*M + 2*theta_A + 2*theta_B)*(C_ancestor + 2*theta_fix)*(3*C_derived + E + 2*theta_B + theta_fix)*(C_derived + E + M + 2*theta_B + theta_fix)*(C_derived + E + 2*theta_fix))', '2*C_ancestor^3*E*M/((3*C_ancestor + 2*theta_B + theta_fix)*(C_ancestor + C_derived + E + 2*M + 2*theta_A + 2*theta_B)*(C_ancestor + 2*theta_B)*(3*C_derived + E + 2*theta_B + theta_fix)*(C_derived + E + M + 2*theta_B + theta_fix))', 'C_ancestor^3*E*M/((3*C_ancestor + 2*theta_B + theta_fix)*(C_ancestor + C_derived + E + 2*M + 2*theta_A + 2*theta_B)*(C_ancestor + 2*theta_fix)*(3*C_derived + E + 2*theta_B + theta_fix)*(C_derived + E + M + 2*theta_B + theta_fix))', '2*C_ancestor^3*E/((3*C_ancestor + 2*theta_B + theta_fix)*(C_ancestor + C_derived + E + 2*M + 2*theta_A + 2*theta_B)*(C_ancestor + 2*theta_B)*(C_derived + E + M + 2*theta_B + theta_fix))', 'C_ancestor^3*E/((3*C_ancestor + 2*theta_B + theta_fix)*(C_ancestor + C_derived + E + 2*M + 2*theta_A + 2*theta_B)*(C_ancestor + 2*theta_fix)*(C_derived + E + M + 2*theta_B + theta_fix))', 'C_ancestor*C_derived^2*M/((C_ancestor + C_derived + E + 2*M + 2*theta_A + 2*theta_B)*(C_ancestor + E + 2*M + 2*theta_A + theta_fix)*(C_derived + E + 2*theta_fix)*(E + M + 2*theta_fix))', 'C_ancestor^2*C_derived*E*M/((C_ancestor + C_derived + E + 2*M + 2*theta_A + 2*theta_B)*(C_ancestor + E + 2*M + 2*theta_A + theta_fix)*(C_ancestor + 2*theta_fix)*(C_derived + E + 2*theta_fix)*(E + M + 2*theta_fix))', 'C_ancestor^2*C_derived*E/((C_ancestor + C_derived + E + 2*M + 2*theta_A + 2*theta_B)*(C_ancestor + E + 2*M + 2*theta_A + theta_fix)*(C_ancestor + 2*theta_fix)*(E + M + 2*theta_fix))', '2*C_derived^3*M^2/((C_ancestor + C_derived + E + 2*M + 2*theta_A + 2*theta_B)*(C_ancestor + E + 2*M + 2*theta_A + theta_fix)*(C_derived + E + M + 2*theta_A + theta_fix)*(C_derived + E + 2*theta_A)*(E + M + 2*theta_A))', '2*C_ancestor*C_derived^2*E*M^2/((C_ancestor + C_derived + E + 2*M + 2*theta_A + 2*theta_B)*(C_ancestor + E + 2*M + 2*theta_A + theta_fix)*(C_ancestor + 2*theta_A)*(C_derived + E + M + 2*theta_A + theta_fix)*(C_derived + E + 2*theta_A)*(E + M + 2*theta_A))', '2*C_ancestor*C_derived^2*E*M/((C_ancestor + C_derived + E + 2*M + 2*theta_A + 2*theta_B)*(C_ancestor + E + 2*M + 2*theta_A + theta_fix)*(C_ancestor + 2*theta_A)*(C_derived + E + M + 2*theta_A + theta_fix)*(E + M + 2*theta_A))', '2*C_derived^3*M^2/((C_ancestor + C_derived + E + 2*M + 2*theta_A + 2*theta_B)*(C_ancestor + E + 2*M + 2*theta_A + theta_fix)*(3*C_derived + E + 2*theta_A + theta_fix)*(C_derived + E + M + 2*theta_A + theta_fix)*(C_derived + E + 2*theta_fix))', '2*C_ancestor*C_derived^2*E*M^2/((C_ancestor + C_derived + E + 2*M + 2*theta_A + 2*theta_B)*(C_ancestor + E + 2*M + 2*theta_A + theta_fix)*(C_ancestor + 2*theta_fix)*(3*C_derived + E + 2*theta_A + theta_fix)*(C_derived + E + M + 2*theta_A + theta_fix)*(C_derived + E + 2*theta_fix))', '4*C_derived^3*M^2/((C_ancestor + C_derived + E + 2*M + 2*theta_A + 2*theta_B)*(C_ancestor + E + 2*M + 2*theta_A + theta_fix)*(3*C_derived + E + 2*theta_A + theta_fix)*(C_derived + E + M + 2*theta_A + theta_fix)*(C_derived + E + 2*theta_A))', '4*C_ancestor*C_derived^2*E*M^2/((C_ancestor + C_derived + E + 2*M + 2*theta_A + 2*theta_B)*(C_ancestor + E + 2*M + 2*theta_A + theta_fix)*(C_ancestor + 2*theta_A)*(3*C_derived + E + 2*theta_A + theta_fix)*(C_derived + E + M + 2*theta_A + theta_fix)*(C_derived + E + 2*theta_A))', '2*C_ancestor^2*C_derived*E*M^2/((3*C_ancestor + 2*theta_A + theta_fix)*(C_ancestor + C_derived + E + 2*M + 2*theta_A + 2*theta_B)*(C_ancestor + E + 2*M + 2*theta_A + theta_fix)*(C_ancestor + 2*theta_fix)*(3*C_derived + E + 2*theta_A + theta_fix)*(C_derived + E + M + 2*theta_A + theta_fix))', '4*C_ancestor^2*C_derived*E*M^2/((3*C_ancestor + 2*theta_A + theta_fix)*(C_ancestor + C_derived + E + 2*M + 2*theta_A + 2*theta_B)*(C_ancestor + E + 2*M + 2*theta_A + theta_fix)*(C_ancestor + 2*theta_A)*(3*C_derived + E + 2*theta_A + theta_fix)*(C_derived + E + M + 2*theta_A + theta_fix))', '2*C_ancestor^2*C_derived*E*M/((3*C_ancestor + 2*theta_A + theta_fix)*(C_ancestor + C_derived + E + 2*M + 2*theta_A + 2*theta_B)*(C_ancestor + E + 2*M + 2*theta_A + theta_fix)*(C_ancestor + 2*theta_fix)*(C_derived + E + M + 2*theta_A + theta_fix))', '4*C_ancestor^2*C_derived*E*M/((3*C_ancestor + 2*theta_A + theta_fix)*(C_ancestor + C_derived + E + 2*M + 2*theta_A + 2*theta_B)*(C_ancestor + E + 2*M + 2*theta_A + theta_fix)*(C_ancestor + 2*theta_A)*(C_derived + E + M + 2*theta_A + theta_fix))', 'C_ancestor^2*C_derived*E/((3*C_ancestor + 2*theta_A + theta_fix)*(C_ancestor + C_derived + E + 2*M + 2*theta_A + 2*theta_B)*(C_ancestor + E + 2*M + 2*theta_A + theta_fix)*(C_ancestor + 2*theta_fix))', '2*C_ancestor^2*C_derived*E/((3*C_ancestor + 2*theta_A + theta_fix)*(C_ancestor + C_derived + E + 2*M + 2*theta_A + 2*theta_B)*(C_ancestor + E + 2*M + 2*theta_A + theta_fix)*(C_ancestor + 2*theta_A))', '4*C_derived^3*M^2/((C_ancestor + C_derived + E + 2*M + 2*theta_A + 2*theta_B)*(3*C_derived + E + M + 2*theta_A + 2*theta_B)*(C_derived + E + M + theta_A + theta_AB + theta_B)*(C_derived + E + 2*theta_A)*(E + M + 2*theta_A))', '4*C_ancestor*C_derived^2*E*M^2/((C_ancestor + C_derived + E + 2*M + 2*theta_A + 2*theta_B)*(C_ancestor + 2*theta_A)*(3*C_derived + E + M + 2*theta_A + 2*theta_B)*(C_derived + E + M + theta_A + theta_AB + theta_B)*(C_derived + E + 2*theta_A)*(E + M + 2*theta_A))', '4*C_ancestor*C_derived^2*E*M/((C_ancestor + C_derived + E + 2*M + 2*theta_A + 2*theta_B)*(C_ancestor + 2*theta_A)*(3*C_derived + E + M + 2*theta_A + 2*theta_B)*(C_derived + E + M + theta_A + theta_AB + theta_B)*(E + M + 2*theta_A))', '4*C_derived^3*M^2/((C_ancestor + C_derived + E + 2*M + 2*theta_A + 2*theta_B)*(3*C_derived + E + M + 2*theta_A + 2*theta_B)*(3*C_derived + E + theta_A + theta_AB + theta_B)*(C_derived + E + M + theta_A + theta_AB + theta_B)*(C_derived + E + 2*theta_B))', '4*C_ancestor*C_derived^2*E*M^2/((C_ancestor + C_derived + E + 2*M + 2*theta_A + 2*theta_B)*(C_ancestor + 2*theta_B)*(3*C_derived + E + M + 2*theta_A + 2*theta_B)*(3*C_derived + E + theta_A + theta_AB + theta_B)*(C_derived + E + M + theta_A + theta_AB + theta_B)*(C_derived + E + 2*theta_B))', '4*C_derived^3*M^2/((C_ancestor + C_derived + E + 2*M + 2*theta_A + 2*theta_B)*(3*C_derived + E + M + 2*theta_A + 2*theta_B)*(3*C_derived + E + theta_A + theta_AB + theta_B)*(C_derived + E + M + theta_A + theta_AB + theta_B)*(C_derived + E + 2*theta_AB))', '4*C_ancestor*C_derived^2*E*M^2/((C_ancestor + C_derived + E + 2*M + 2*theta_A + 2*theta_B)*(C_ancestor + 2*theta_AB)*(3*C_derived + E + M + 2*theta_A + 2*theta_B)*(3*C_derived + E + theta_A + theta_AB + theta_B)*(C_derived + E + M + theta_A + theta_AB + theta_B)*(C_derived + E + 2*theta_AB))', '4*C_derived^3*M^2/((C_ancestor + C_derived + E + 2*M + 2*theta_A + 2*theta_B)*(3*C_derived + E + M + 2*theta_A + 2*theta_B)*(3*C_derived + E + theta_A + theta_AB + theta_B)*(C_derived + E + M + theta_A + theta_AB + theta_B)*(C_derived + E + 2*theta_A))', '4*C_ancestor*C_derived^2*E*M^2/((C_ancestor + C_derived + E + 2*M + 2*theta_A + 2*theta_B)*(C_ancestor + 2*theta_A)*(3*C_derived + E + M + 2*theta_A + 2*theta_B)*(3*C_derived + E + theta_A + theta_AB + theta_B)*(C_derived + E + M + theta_A + theta_AB + theta_B)*(C_derived + E + 2*theta_A))', '4*C_ancestor^2*C_derived*E*M^2/((3*C_ancestor + theta_A + theta_AB + theta_B)*(C_ancestor + C_derived + E + 2*M + 2*theta_A + 2*theta_B)*(C_ancestor + 2*theta_B)*(3*C_derived + E + M + 2*theta_A + 2*theta_B)*(3*C_derived + E + theta_A + theta_AB + theta_B)*(C_derived + E + M + theta_A + theta_AB + theta_B))', '4*C_ancestor^2*C_derived*E*M^2/((3*C_ancestor + theta_A + theta_AB + theta_B)*(C_ancestor + C_derived + E + 2*M + 2*theta_A + 2*theta_B)*(C_ancestor + 2*theta_AB)*(3*C_derived + E + M + 2*theta_A + 2*theta_B)*(3*C_derived + E + theta_A + theta_AB + theta_B)*(C_derived + E + M + theta_A + theta_AB + theta_B))', '4*C_ancestor^2*C_derived*E*M^2/((3*C_ancestor + theta_A + theta_AB + theta_B)*(C_ancestor + C_derived + E + 2*M + 2*theta_A + 2*theta_B)*(C_ancestor + 2*theta_A)*(3*C_derived + E + M + 2*theta_A + 2*theta_B)*(3*C_derived + E + theta_A + theta_AB + theta_B)*(C_derived + E + M + theta_A + theta_AB + theta_B))', '4*C_ancestor^2*C_derived*E*M/((3*C_ancestor + theta_A + theta_AB + theta_B)*(C_ancestor + C_derived + E + 2*M + 2*theta_A + 2*theta_B)*(C_ancestor + 2*theta_B)*(3*C_derived + E + M + 2*theta_A + 2*theta_B)*(C_derived + E + M + theta_A + theta_AB + theta_B))', '4*C_ancestor^2*C_derived*E*M/((3*C_ancestor + theta_A + theta_AB + theta_B)*(C_ancestor + C_derived + E + 2*M + 2*theta_A + 2*theta_B)*(C_ancestor + 2*theta_AB)*(3*C_derived + E + M + 2*theta_A + 2*theta_B)*(C_derived + E + M + theta_A + theta_AB + theta_B))', '4*C_ancestor^2*C_derived*E*M/((3*C_ancestor + theta_A + theta_AB + theta_B)*(C_ancestor + C_derived + E + 2*M + 2*theta_A + 2*theta_B)*(C_ancestor + 2*theta_A)*(3*C_derived + E + M + 2*theta_A + 2*theta_B)*(C_derived + E + M + theta_A + theta_AB + theta_B))', '2*C_derived^3*M^2/((C_ancestor + C_derived + E + 2*M + 2*theta_A + 2*theta_B)*(3*C_derived + E + M + 2*theta_A + 2*theta_B)*(C_derived + E + M + 2*theta_A + theta_fix)*(C_derived + E + 2*theta_A)*(E + M + 2*theta_A))', '2*C_ancestor*C_derived^2*E*M^2/((C_ancestor + C_derived + E + 2*M + 2*theta_A + 2*theta_B)*(C_ancestor + 2*theta_A)*(3*C_derived + E + M + 2*theta_A + 2*theta_B)*(C_derived + E + M + 2*theta_A + theta_fix)*(C_derived + E + 2*theta_A)*(E + M + 2*theta_A))', '2*C_ancestor*C_derived^2*E*M/((C_ancestor + C_derived + E + 2*M + 2*theta_A + 2*theta_B)*(C_ancestor + 2*theta_A)*(3*C_derived + E + M + 2*theta_A + 2*theta_B)*(C_derived + E + M + 2*theta_A + theta_fix)*(E + M + 2*theta_A))', '2*C_derived^3*M^2/((C_ancestor + C_derived + E + 2*M + 2*theta_A + 2*theta_B)*(3*C_derived + E + M + 2*theta_A + 2*theta_B)*(3*C_derived + E + 2*theta_A + theta_fix)*(C_derived + E + M + 2*theta_A + theta_fix)*(C_derived + E + 2*theta_fix))', '2*C_ancestor*C_derived^2*E*M^2/((C_ancestor + C_derived + E + 2*M + 2*theta_A + 2*theta_B)*(C_ancestor + 2*theta_fix)*(3*C_derived + E + M + 2*theta_A + 2*theta_B)*(3*C_derived + E + 2*theta_A + theta_fix)*(C_derived + E + M + 2*theta_A + theta_fix)*(C_derived + E + 2*theta_fix))', '4*C_derived^3*M^2/((C_ancestor + C_derived + E + 2*M + 2*theta_A + 2*theta_B)*(3*C_derived + E + M + 2*theta_A + 2*theta_B)*(3*C_derived + E + 2*theta_A + theta_fix)*(C_derived + E + M + 2*theta_A + theta_fix)*(C_derived + E + 2*theta_A))', '4*C_ancestor*C_derived^2*E*M^2/((C_ancestor + C_derived + E + 2*M + 2*theta_A + 2*theta_B)*(C_ancestor + 2*theta_A)*(3*C_derived + E + M + 2*theta_A + 2*theta_B)*(3*C_derived + E + 2*theta_A + theta_fix)*(C_derived + E + M + 2*theta_A + theta_fix)*(C_derived + E + 2*theta_A))', '2*C_ancestor^2*C_derived*E*M^2/((3*C_ancestor + 2*theta_A + theta_fix)*(C_ancestor + C_derived + E + 2*M + 2*theta_A + 2*theta_B)*(C_ancestor + 2*theta_fix)*(3*C_derived + E + M + 2*theta_A + 2*theta_B)*(3*C_derived + E + 2*theta_A + theta_fix)*(C_derived + E + M + 2*theta_A + theta_fix))', '4*C_ancestor^2*C_derived*E*M^2/((3*C_ancestor + 2*theta_A + theta_fix)*(C_ancestor + C_derived + E + 2*M + 2*theta_A + 2*theta_B)*(C_ancestor + 2*theta_A)*(3*C_derived + E + M + 2*theta_A + 2*theta_B)*(3*C_derived + E + 2*theta_A + theta_fix)*(C_derived + E + M + 2*theta_A + theta_fix))', '2*C_ancestor^2*C_derived*E*M/((3*C_ancestor + 2*theta_A + theta_fix)*(C_ancestor + C_derived + E + 2*M + 2*theta_A + 2*theta_B)*(C_ancestor + 2*theta_fix)*(3*C_derived + E + M + 2*theta_A + 2*theta_B)*(C_derived + E + M + 2*theta_A + theta_fix))', '4*C_ancestor^2*C_derived*E*M/((3*C_ancestor + 2*theta_A + theta_fix)*(C_ancestor + C_derived + E + 2*M + 2*theta_A + 2*theta_B)*(C_ancestor + 2*theta_A)*(3*C_derived + E + M + 2*theta_A + 2*theta_B)*(C_derived + E + M + 2*theta_A + theta_fix))', '4*C_derived^3*M^2/((C_ancestor + C_derived + E + 2*M + 2*theta_A + 2*theta_B)*(6*C_derived + E + 2*theta_A + 2*theta_B)*(3*C_derived + E + M + 2*theta_A + 2*theta_B)*(3*C_derived + E + 2*theta_B + theta_fix)*(C_derived + E + 2*theta_B))', '4*C_ancestor*C_derived^2*E*M^2/((C_ancestor + C_derived + E + 2*M + 2*theta_A + 2*theta_B)*(C_ancestor + 2*theta_B)*(6*C_derived + E + 2*theta_A + 2*theta_B)*(3*C_derived + E + M + 2*theta_A + 2*theta_B)*(3*C_derived + E + 2*theta_B + theta_fix)*(C_derived + E + 2*theta_B))', '2*C_derived^3*M^2/((C_ancestor + C_derived + E + 2*M + 2*theta_A + 2*theta_B)*(6*C_derived + E + 2*theta_A + 2*theta_B)*(3*C_derived + E + M + 2*theta_A + 2*theta_B)*(3*C_derived + E + 2*theta_B + theta_fix)*(C_derived + E + 2*theta_fix))', '2*C_ancestor*C_derived^2*E*M^2/((C_ancestor + C_derived + E + 2*M + 2*theta_A + 2*theta_B)*(C_ancestor + 2*theta_fix)*(6*C_derived + E + 2*theta_A + 2*theta_B)*(3*C_derived + E + M + 2*theta_A + 2*theta_B)*(3*C_derived + E + 2*theta_B + theta_fix)*(C_derived + E + 2*theta_fix))', '4*C_ancestor^2*C_derived*E*M^2/((3*C_ancestor + 2*theta_B + theta_fix)*(C_ancestor + C_derived + E + 2*M + 2*theta_A + 2*theta_B)*(C_ancestor + 2*theta_B)*(6*C_derived + E + 2*theta_A + 2*theta_B)*(3*C_derived + E + M + 2*theta_A + 2*theta_B)*(3*C_derived + E + 2*theta_B + theta_fix))', '2*C_ancestor^2*C_derived*E*M^2/((3*C_ancestor + 2*theta_B + theta_fix)*(C_ancestor + C_derived + E + 2*M + 2*theta_A + 2*theta_B)*(C_ancestor + 2*theta_fix)*(6*C_derived + E + 2*theta_A + 2*theta_B)*(3*C_derived + E + M + 2*theta_A + 2*theta_B)*(3*C_derived + E + 2*theta_B + theta_fix))', '8*C_derived^3*M^2/((C_ancestor + C_derived + E + 2*M + 2*theta_A + 2*theta_B)*(6*C_derived + E + 2*theta_A + 2*theta_B)*(3*C_derived + E + M + 2*theta_A + 2*theta_B)*(3*C_derived + E + theta_A + theta_AB + theta_B)*(C_derived + E + 2*theta_B))', '8*C_ancestor*C_derived^2*E*M^2/((C_ancestor + C_derived + E + 2*M + 2*theta_A + 2*theta_B)*(C_ancestor + 2*theta_B)*(6*C_derived + E + 2*theta_A + 2*theta_B)*(3*C_derived + E + M + 2*theta_A + 2*theta_B)*(3*C_derived + E + theta_A + theta_AB + theta_B)*(C_derived + E + 2*theta_B))', '8*C_derived^3*M^2/((C_ancestor + C_derived + E + 2*M + 2*theta_A + 2*theta_B)*(6*C_derived + E + 2*theta_A + 2*theta_B)*(3*C_derived + E + M + 2*theta_A + 2*theta_B)*(3*C_derived + E + theta_A + theta_AB + theta_B)*(C_derived + E + 2*theta_AB))', '8*C_ancestor*C_derived^2*E*M^2/((C_ancestor + C_derived + E + 2*M + 2*theta_A + 2*theta_B)*(C_ancestor + 2*theta_AB)*(6*C_derived + E + 2*theta_A + 2*theta_B)*(3*C_derived + E + M + 2*theta_A + 2*theta_B)*(3*C_derived + E + theta_A + theta_AB + theta_B)*(C_derived + E + 2*theta_AB))', '8*C_derived^3*M^2/((C_ancestor + C_derived + E + 2*M + 2*theta_A + 2*theta_B)*(6*C_derived + E + 2*theta_A + 2*theta_B)*(3*C_derived + E + M + 2*theta_A + 2*theta_B)*(3*C_derived + E + theta_A + theta_AB + theta_B)*(C_derived + E + 2*theta_A))', '8*C_ancestor*C_derived^2*E*M^2/((C_ancestor + C_derived + E + 2*M + 2*theta_A + 2*theta_B)*(C_ancestor + 2*theta_A)*(6*C_derived + E + 2*theta_A + 2*theta_B)*(3*C_derived + E + M + 2*theta_A + 2*theta_B)*(3*C_derived + E + theta_A + theta_AB + theta_B)*(C_derived + E + 2*theta_A))', '8*C_ancestor^2*C_derived*E*M^2/((3*C_ancestor + theta_A + theta_AB + theta_B)*(C_ancestor + C_derived + E + 2*M + 2*theta_A + 2*theta_B)*(C_ancestor + 2*theta_B)*(6*C_derived + E + 2*theta_A + 2*theta_B)*(3*C_derived + E + M + 2*theta_A + 2*theta_B)*(3*C_derived + E + theta_A + theta_AB + theta_B))', '8*C_ancestor^2*C_derived*E*M^2/((3*C_ancestor + theta_A + theta_AB + theta_B)*(C_ancestor + C_derived + E + 2*M + 2*theta_A + 2*theta_B)*(C_ancestor + 2*theta_AB)*(6*C_derived + E + 2*theta_A + 2*theta_B)*(3*C_derived + E + M + 2*theta_A + 2*theta_B)*(3*C_derived + E + theta_A + theta_AB + theta_B))', '8*C_ancestor^2*C_derived*E*M^2/((3*C_ancestor + theta_A + theta_AB + theta_B)*(C_ancestor + C_derived + E + 2*M + 2*theta_A + 2*theta_B)*(C_ancestor + 2*theta_A)*(6*C_derived + E + 2*theta_A + 2*theta_B)*(3*C_derived + E + M + 2*theta_A + 2*theta_B)*(3*C_derived + E + theta_A + theta_AB + theta_B))', '2*C_derived^3*M^2/((C_ancestor + C_derived + E + 2*M + 2*theta_A + 2*theta_B)*(6*C_derived + E + 2*theta_A + 2*theta_B)*(3*C_derived + E + M + 2*theta_A + 2*theta_B)*(3*C_derived + E + 2*theta_A + theta_fix)*(C_derived + E + 2*theta_fix))', '2*C_ancestor*C_derived^2*E*M^2/((C_ancestor + C_derived + E + 2*M + 2*theta_A + 2*theta_B)*(C_ancestor + 2*theta_fix)*(6*C_derived + E + 2*theta_A + 2*theta_B)*(3*C_derived + E + M + 2*theta_A + 2*theta_B)*(3*C_derived + E + 2*theta_A + theta_fix)*(C_derived + E + 2*theta_fix))', '4*C_derived^3*M^2/((C_ancestor + C_derived + E + 2*M + 2*theta_A + 2*theta_B)*(6*C_derived + E + 2*theta_A + 2*theta_B)*(3*C_derived + E + M + 2*theta_A + 2*theta_B)*(3*C_derived + E + 2*theta_A + theta_fix)*(C_derived + E + 2*theta_A))', '4*C_ancestor*C_derived^2*E*M^2/((C_ancestor + C_derived + E + 2*M + 2*theta_A + 2*theta_B)*(C_ancestor + 2*theta_A)*(6*C_derived + E + 2*theta_A + 2*theta_B)*(3*C_derived + E + M + 2*theta_A + 2*theta_B)*(3*C_derived + E + 2*theta_A + theta_fix)*(C_derived + E + 2*theta_A))', '2*C_ancestor^2*C_derived*E*M^2/((3*C_ancestor + 2*theta_A + theta_fix)*(C_ancestor + C_derived + E + 2*M + 2*theta_A + 2*theta_B)*(C_ancestor + 2*theta_fix)*(6*C_derived + E + 2*theta_A + 2*theta_B)*(3*C_derived + E + M + 2*theta_A + 2*theta_B)*(3*C_derived + E + 2*theta_A + theta_fix))', '4*C_ancestor^2*C_derived*E*M^2/((3*C_ancestor + 2*theta_A + theta_fix)*(C_ancestor + C_derived + E + 2*M + 2*theta_A + 2*theta_B)*(C_ancestor + 2*theta_A)*(6*C_derived + E + 2*theta_A + 2*theta_B)*(3*C_derived + E + M + 2*theta_A + 2*theta_B)*(3*C_derived + E + 2*theta_A + theta_fix))', '2*C_ancestor^3*E*M^2/((3*C_ancestor + theta_A + theta_B)*(3*C_ancestor + 2*theta_B + theta_fix)*(C_ancestor + C_derived + E + 2*M + 2*theta_A + 2*theta_B)*(C_ancestor + 2*theta_B)*(6*C_derived + E + 2*theta_A + 2*theta_B)*(3*C_derived + E + M + 2*theta_A + 2*theta_B))', 'C_ancestor^3*E*M^2/((3*C_ancestor + theta_A + theta_B)*(3*C_ancestor + 2*theta_B + theta_fix)*(C_ancestor + C_derived + E + 2*M + 2*theta_A + 2*theta_B)*(C_ancestor + 2*theta_fix)*(6*C_derived + E + 2*theta_A + 2*theta_B)*(3*C_derived + E + M + 2*theta_A + 2*theta_B))', '4*C_ancestor^3*E*M^2/((3*C_ancestor + theta_A + theta_AB + theta_B)*(3*C_ancestor + theta_A + theta_B)*(C_ancestor + C_derived + E + 2*M + 2*theta_A + 2*theta_B)*(C_ancestor + 2*theta_B)*(6*C_derived + E + 2*theta_A + 2*theta_B)*(3*C_derived + E + M + 2*theta_A + 2*theta_B))', '4*C_ancestor^3*E*M^2/((3*C_ancestor + theta_A + theta_AB + theta_B)*(3*C_ancestor + theta_A + theta_B)*(C_ancestor + C_derived + E + 2*M + 2*theta_A + 2*theta_B)*(C_ancestor + 2*theta_AB)*(6*C_derived + E + 2*theta_A + 2*theta_B)*(3*C_derived + E + M + 2*theta_A + 2*theta_B))', '4*C_ancestor^3*E*M^2/((3*C_ancestor + theta_A + theta_AB + theta_B)*(3*C_ancestor + theta_A + theta_B)*(C_ancestor + C_derived + E + 2*M + 2*theta_A + 2*theta_B)*(C_ancestor + 2*theta_A)*(6*C_derived + E + 2*theta_A + 2*theta_B)*(3*C_derived + E + M + 2*theta_A + 2*theta_B))', 'C_ancestor^3*E*M^2/((3*C_ancestor + 2*theta_A + theta_fix)*(3*C_ancestor + theta_A + theta_B)*(C_ancestor + C_derived + E + 2*M + 2*theta_A + 2*theta_B)*(C_ancestor + 2*theta_fix)*(6*C_derived + E + 2*theta_A + 2*theta_B)*(3*C_derived + E + M + 2*theta_A + 2*theta_B))', '2*C_ancestor^3*E*M^2/((3*C_ancestor + 2*theta_A + theta_fix)*(3*C_ancestor + theta_A + theta_B)*(C_ancestor + C_derived + E + 2*M + 2*theta_A + 2*theta_B)*(C_ancestor + 2*theta_A)*(6*C_derived + E + 2*theta_A + 2*theta_B)*(3*C_derived + E + M + 2*theta_A + 2*theta_B))', '2*C_ancestor^3*E*M/((3*C_ancestor + theta_A + theta_B)*(3*C_ancestor + 2*theta_B + theta_fix)*(C_ancestor + C_derived + E + 2*M + 2*theta_A + 2*theta_B)*(C_ancestor + 2*theta_B)*(3*C_derived + E + M + 2*theta_A + 2*theta_B))', 'C_ancestor^3*E*M/((3*C_ancestor + theta_A + theta_B)*(3*C_ancestor + 2*theta_B + theta_fix)*(C_ancestor + C_derived + E + 2*M + 2*theta_A + 2*theta_B)*(C_ancestor + 2*theta_fix)*(3*C_derived + E + M + 2*theta_A + 2*theta_B))', '4*C_ancestor^3*E*M/((3*C_ancestor + theta_A + theta_AB + theta_B)*(3*C_ancestor + theta_A + theta_B)*(C_ancestor + C_derived + E + 2*M + 2*theta_A + 2*theta_B)*(C_ancestor + 2*theta_B)*(3*C_derived + E + M + 2*theta_A + 2*theta_B))', '4*C_ancestor^3*E*M/((3*C_ancestor + theta_A + theta_AB + theta_B)*(3*C_ancestor + theta_A + theta_B)*(C_ancestor + C_derived + E + 2*M + 2*theta_A + 2*theta_B)*(C_ancestor + 2*theta_AB)*(3*C_derived + E + M + 2*theta_A + 2*theta_B))', '4*C_ancestor^3*E*M/((3*C_ancestor + theta_A + theta_AB + theta_B)*(3*C_ancestor + theta_A + theta_B)*(C_ancestor + C_derived + E + 2*M + 2*theta_A + 2*theta_B)*(C_ancestor + 2*theta_A)*(3*C_derived + E + M + 2*theta_A + 2*theta_B))', 'C_ancestor^3*E*M/((3*C_ancestor + 2*theta_A + theta_fix)*(3*C_ancestor + theta_A + theta_B)*(C_ancestor + C_derived + E + 2*M + 2*theta_A + 2*theta_B)*(C_ancestor + 2*theta_fix)*(3*C_derived + E + M + 2*theta_A + 2*theta_B))', '2*C_ancestor^3*E*M/((3*C_ancestor + 2*theta_A + theta_fix)*(3*C_ancestor + theta_A + theta_B)*(C_ancestor + C_derived + E + 2*M + 2*theta_A + 2*theta_B)*(C_ancestor + 2*theta_A)*(3*C_derived + E + M + 2*theta_A + 2*theta_B))', 'C_ancestor^3*E/((3*C_ancestor + theta_A + theta_B)*(3*C_ancestor + 2*theta_B + theta_fix)*(C_ancestor + C_derived + E + 2*M + 2*theta_A + 2*theta_B)*(C_ancestor + 2*theta_B))', '1/2*C_ancestor^3*E/((3*C_ancestor + theta_A + theta_B)*(3*C_ancestor + 2*theta_B + theta_fix)*(C_ancestor + C_derived + E + 2*M + 2*theta_A + 2*theta_B)*(C_ancestor + 2*theta_fix))', '2*C_ancestor^3*E/((3*C_ancestor + theta_A + theta_AB + theta_B)*(3*C_ancestor + theta_A + theta_B)*(C_ancestor + C_derived + E + 2*M + 2*theta_A + 2*theta_B)*(C_ancestor + 2*theta_B))', '2*C_ancestor^3*E/((3*C_ancestor + theta_A + theta_AB + theta_B)*(3*C_ancestor + theta_A + theta_B)*(C_ancestor + C_derived + E + 2*M + 2*theta_A + 2*theta_B)*(C_ancestor + 2*theta_AB))', '2*C_ancestor^3*E/((3*C_ancestor + theta_A + theta_AB + theta_B)*(3*C_ancestor + theta_A + theta_B)*(C_ancestor + C_derived + E + 2*M + 2*theta_A + 2*theta_B)*(C_ancestor + 2*theta_A))', '1/2*C_ancestor^3*E/((3*C_ancestor + 2*theta_A + theta_fix)*(3*C_ancestor + theta_A + theta_B)*(C_ancestor + C_derived + E + 2*M + 2*theta_A + 2*theta_B)*(C_ancestor + 2*theta_fix))', 'C_ancestor^3*E/((3*C_ancestor + 2*theta_A + theta_fix)*(3*C_ancestor + theta_A + theta_B)*(C_ancestor + C_derived + E + 2*M + 2*theta_A + 2*theta_B)*(C_ancestor + 2*theta_A))']\n",
    "pathEquationsR = [str(a) for a in pathEquationsR]\n",
    "print (len(pathEquationsE), len(pathEquationsR))"
   ]
  },
  {
   "cell_type": "code",
   "execution_count": 4,
   "metadata": {},
   "outputs": [
    {
     "name": "stdout",
     "output_type": "stream",
     "text": [
      "False\n",
      "False\n"
     ]
    }
   ],
   "source": [
    "var('C_ancestor, C_derived, E, M, R, theta_A, theta_B, theta_AB, theta_fix, T');\n",
    "pathEquationsE = [ SR(a) for a in pathEquationsE];\n",
    "pathEquationsR=  [ SR(a) for a in pathEquationsR];\n",
    "print pathEquationsE[0].has(R)\n",
    "print pathEquationsR[0].has(R)\n"
   ]
  },
  {
   "cell_type": "code",
   "execution_count": 5,
   "metadata": {},
   "outputs": [],
   "source": [
    "invertedPathsE= [inverse_laplace(a/E,E,T) for a in pathEquationsE];\n",
    "invertedPathsR = [inverse_laplace(a/E,E,T) for a in pathEquationsR];\n",
    "\n",
    "#invertedGiac = [inverse_laplace(a/E,E,T,algorithm='sympy') for a in pathEquations];\n",
    "# invertedGiac = [gia c('invlaplace(%s/E,E,T)'%a) for a in pathEquations];\n",
    "# print invertedPaths"
   ]
  },
  {
   "cell_type": "code",
   "execution_count": 10,
   "metadata": {},
   "outputs": [
    {
     "name": "stdout",
     "output_type": "stream",
     "text": [
      "95\n"
     ]
    }
   ],
   "source": [
    "print(len(invertedPathsR))"
   ]
  },
  {
   "cell_type": "code",
   "execution_count": 24,
   "metadata": {},
   "outputs": [
    {
     "name": "stdout",
     "output_type": "stream",
     "text": [
      "16\n",
      "16\n"
     ]
    }
   ],
   "source": [
    "mutList = [theta_A,theta_B,theta_AB,theta_fix]; \n",
    "kmax = 1\n",
    "\n",
    "#for numeric evaluations, currently all pathwise mutation configuration probabilities\n",
    "# are stored in the dictionary symbolically.\n",
    "substitutionDic ={C_ancestor:1, C_derived:1, M:234/100/2, theta_A:12/10/2,\n",
    "                  theta_B:12/10/2, theta_AB:12/10/2, theta_fix:12/10/2, T:14/10}\n",
    "\n",
    "testE = make_derivatives(invertedPathsE[0],mutList,kmax); #print test;\n",
    "testR = make_derivatives(invertedPathsR[0],mutList,kmax); #print test;\n",
    "print len(testE)\n",
    "print len(testR)\n"
   ]
  },
  {
   "cell_type": "code",
   "execution_count": 7,
   "metadata": {},
   "outputs": [],
   "source": [
    "pathDerDicE = [ make_derivatives(a,mutList,kmax) for a in invertedPathsE];\n",
    "pathDerDicR = [ make_derivatives(a,mutList,kmax) for a in invertedPathsR];"
   ]
  },
  {
   "cell_type": "code",
   "execution_count": 8,
   "metadata": {},
   "outputs": [
    {
     "name": "stdout",
     "output_type": "stream",
     "text": [
      "95\n"
     ]
    }
   ],
   "source": [
    "print len(pathDerDicR)"
   ]
  },
  {
   "cell_type": "code",
   "execution_count": 25,
   "metadata": {},
   "outputs": [
    {
     "name": "stdout",
     "output_type": "stream",
     "text": [
      "0.0000416742786675746\n",
      "0.0000416742786675746\n"
     ]
    }
   ],
   "source": [
    "testSymE = get_sym_prob(pathDerDicE[11],(1,1,0,0),mutList);\n",
    "testNumE = get_num_prob(pathDerDicE[11],(1,1,0,0),mutList,substitutionDic)\n",
    "\n",
    "\n",
    "testSymR = get_sym_prob(pathDerDicR[11],(1,1,0,0),mutList);\n",
    "testNumR = get_num_prob(pathDerDicR[11],(1,1,0,0),mutList,substitutionDic)\n",
    "\n",
    "\n",
    "print n(testSymR.substitute(substitutionDic))\n",
    "print n(testNumR)"
   ]
  },
  {
   "cell_type": "code",
   "execution_count": 26,
   "metadata": {},
   "outputs": [
    {
     "name": "stdout",
     "output_type": "stream",
     "text": [
      "0.0764073865047889\n",
      "0.0764073865047889\n"
     ]
    }
   ],
   "source": [
    "\n",
    "a = sum([get_num_prob(a,(0,0,0,0),mutList,substitutionDic) for a in pathDerDicE]);\n",
    "b = sum([get_num_prob(b,(0,0,0,0),mutList,substitutionDic) for b in pathDerDicR]);\n",
    "print n(a);\n",
    "print n(b);"
   ]
  },
  {
   "cell_type": "code",
   "execution_count": 23,
   "metadata": {},
   "outputs": [
    {
     "data": {
      "text/plain": [
       "0.0764073865047889"
      ]
     },
     "execution_count": 23,
     "metadata": {},
     "output_type": "execute_result"
    }
   ],
   "source": [
    "sum([n(i.substitute({C_ancestor:1, C_derived:1, M:234/100/2, theta_A:12/10/2,\n",
    "                  theta_B:12/10/2, theta_AB:12/10/2, theta_fix:12/10/2, T:14/10})) for i in invertedPathsE])"
   ]
  },
  {
   "cell_type": "code",
   "execution_count": 18,
   "metadata": {},
   "outputs": [
    {
     "data": {
      "text/plain": [
       "3/5"
      ]
     },
     "execution_count": 18,
     "metadata": {},
     "output_type": "execute_result"
    }
   ],
   "source": [
    "12/10/2"
   ]
  },
  {
   "cell_type": "code",
   "execution_count": 49,
   "metadata": {},
   "outputs": [
    {
     "name": "stdout",
     "output_type": "stream",
     "text": [
      "[((1, 1, 0, 1), 0.000117498755071994), ((1, 0, 1, 1), 0.000000000000000), ((1, 0, 0, 0), 0.0407582211332397), ((0, 1, 1, 0), 0.00126099325477335), ((1, 1, 0, 0), 0.00525562279475192), ((0, 0, 0, 1), 0.0148333754950207), ((0, 1, 0, 1), 0.00163840935759379), ((1, 0, 0, 1), 0.00208101329764291), ((0, 0, 1, 0), 0.00738377566695452), ((1, 1, 1, 1), 0.000000000000000), ((0, 0, 0, 0), 0.107907095247685), ((0, 1, 0, 0), 0.0306661923169408), ((1, 0, 1, 0), 0.00136155430724118), ((1, 1, 1, 0), 0.000179326956839008), ((0, 0, 1, 1), 0.000000000000000), ((0, 1, 1, 1), 0.000000000000000)]\n",
      "[((1, 1, 0, 1), 0.000117498755071994), ((1, 0, 1, 1), 0.000000000000000), ((1, 0, 0, 0), 0.0407582211332397), ((0, 1, 1, 0), 0.00126099325477335), ((1, 1, 0, 0), 0.00525562279475192), ((0, 0, 0, 1), 0.0148333754950207), ((0, 1, 0, 1), 0.00163840935759379), ((1, 0, 0, 1), 0.00208101329764291), ((0, 0, 1, 0), 0.00738377566695452), ((1, 1, 1, 1), 0.000000000000000), ((0, 0, 0, 0), 0.107907095247685), ((0, 1, 0, 0), 0.0306661923169408), ((1, 0, 1, 0), 0.00136155430724118), ((1, 1, 1, 0), 0.000179326956839008), ((0, 0, 1, 1), 0.000000000000000), ((0, 1, 1, 1), 0.000000000000000)]\n"
     ]
    }
   ],
   "source": [
    "def get_total_prob(pathDerDic,key,substitutionDic):\n",
    "    pathProbs = [ get_num_prob(a,key,mutList,substitutionDic) for a in pathDerDic]\n",
    "    return sum(pathProbs)\n",
    "    \n",
    "keysAllE = pathDerDicE[0].keys();\n",
    "keysAllR = pathDerDicR[0].keys()\n",
    "\n",
    "\n",
    "totalProbsE = [(key, n(get_total_prob(pathDerDicE,key,substitutionDic))) for key in keysAllE];\n",
    "totalProbsR = [(key, n(get_total_prob(pathDerDicR,key,substitutionDic))) for key in keysAllR];\n",
    "\n",
    "print totalProbsE\n",
    "print totalProbsR"
   ]
  },
  {
   "cell_type": "code",
   "execution_count": 50,
   "metadata": {},
   "outputs": [
    {
     "name": "stdout",
     "output_type": "stream",
     "text": [
      "0.213443078583755\n",
      "0.213443078583755\n"
     ]
    }
   ],
   "source": [
    "print sum ([ b for (a,b) in totalProbsE])\n",
    "print sum ([ b for (a,b) in totalProbsR])"
   ]
  },
  {
   "cell_type": "code",
   "execution_count": null,
   "metadata": {},
   "outputs": [],
   "source": []
  }
 ],
 "metadata": {
  "kernelspec": {
   "display_name": "SageMath 8.1",
   "language": "",
   "name": "sagemath"
  },
  "language_info": {
   "codemirror_mode": {
    "name": "ipython",
    "version": 2
   },
   "file_extension": ".py",
   "mimetype": "text/x-python",
   "name": "python",
   "nbconvert_exporter": "python",
   "pygments_lexer": "ipython2",
   "version": "2.7.15rc1"
  }
 },
 "nbformat": 4,
 "nbformat_minor": 2
}
